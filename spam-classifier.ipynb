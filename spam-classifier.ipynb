{
 "cells": [
  {
   "cell_type": "code",
   "execution_count": 1,
   "id": "ea06820e",
   "metadata": {
    "_cell_guid": "b1076dfc-b9ad-4769-8c92-a6c4dae69d19",
    "_uuid": "8f2839f25d086af736a60e9eeb907d3b93b6e0e5",
    "execution": {
     "iopub.execute_input": "2023-09-04T15:06:46.392929Z",
     "iopub.status.busy": "2023-09-04T15:06:46.392524Z",
     "iopub.status.idle": "2023-09-04T15:06:46.762840Z",
     "shell.execute_reply": "2023-09-04T15:06:46.761733Z"
    },
    "papermill": {
     "duration": 0.382857,
     "end_time": "2023-09-04T15:06:46.768332",
     "exception": false,
     "start_time": "2023-09-04T15:06:46.385475",
     "status": "completed"
    },
    "tags": []
   },
   "outputs": [
    {
     "name": "stdout",
     "output_type": "stream",
     "text": [
      "/kaggle/input/sms-spam-collection-dataset/spam.csv\n"
     ]
    }
   ],
   "source": [
    "# This Python 3 environment comes with many helpful analytics libraries installed\n",
    "# It is defined by the kaggle/python Docker image: https://github.com/kaggle/docker-python\n",
    "# For example, here's several helpful packages to load\n",
    "\n",
    "import numpy as np # linear algebra\n",
    "import pandas as pd # data processing, CSV file I/O (e.g. pd.read_csv)\n",
    "\n",
    "# Input data files are available in the read-only \"../input/\" directory\n",
    "# For example, running this (by clicking run or pressing Shift+Enter) will list all files under the input directory\n",
    "\n",
    "import os\n",
    "for dirname, _, filenames in os.walk('/kaggle/input'):\n",
    "    for filename in filenames:\n",
    "        print(os.path.join(dirname, filename))\n",
    "\n",
    "# You can write up to 20GB to the current directory (/kaggle/working/) that gets preserved as output when you create a version using \"Save & Run All\" \n",
    "# You can also write temporary files to /kaggle/temp/, but they won't be saved outside of the current session"
   ]
  },
  {
   "cell_type": "code",
   "execution_count": 2,
   "id": "1c8aa02c",
   "metadata": {
    "execution": {
     "iopub.execute_input": "2023-09-04T15:06:46.780339Z",
     "iopub.status.busy": "2023-09-04T15:06:46.779869Z",
     "iopub.status.idle": "2023-09-04T15:06:46.822973Z",
     "shell.execute_reply": "2023-09-04T15:06:46.821819Z"
    },
    "papermill": {
     "duration": 0.051855,
     "end_time": "2023-09-04T15:06:46.825664",
     "exception": false,
     "start_time": "2023-09-04T15:06:46.773809",
     "status": "completed"
    },
    "tags": []
   },
   "outputs": [
    {
     "name": "stdout",
     "output_type": "stream",
     "text": [
      "     v1                                                 v2 Unnamed: 2  \\\n",
      "0   ham  Go until jurong point, crazy.. Available only ...        NaN   \n",
      "1   ham                      Ok lar... Joking wif u oni...        NaN   \n",
      "2  spam  Free entry in 2 a wkly comp to win FA Cup fina...        NaN   \n",
      "3   ham  U dun say so early hor... U c already then say...        NaN   \n",
      "4   ham  Nah I don't think he goes to usf, he lives aro...        NaN   \n",
      "\n",
      "  Unnamed: 3 Unnamed: 4  \n",
      "0        NaN        NaN  \n",
      "1        NaN        NaN  \n",
      "2        NaN        NaN  \n",
      "3        NaN        NaN  \n",
      "4        NaN        NaN  \n"
     ]
    }
   ],
   "source": [
    "# Load the dataset  \n",
    "data = pd.read_csv('/kaggle/input/sms-spam-collection-dataset/spam.csv', encoding='latin-1')\n",
    "\n",
    "# Check the first few rows to understand the data\n",
    "print(data.head())\n"
   ]
  },
  {
   "cell_type": "code",
   "execution_count": 3,
   "id": "00d00e74",
   "metadata": {
    "execution": {
     "iopub.execute_input": "2023-09-04T15:06:46.836656Z",
     "iopub.status.busy": "2023-09-04T15:06:46.836041Z",
     "iopub.status.idle": "2023-09-04T15:06:46.851217Z",
     "shell.execute_reply": "2023-09-04T15:06:46.850136Z"
    },
    "papermill": {
     "duration": 0.023133,
     "end_time": "2023-09-04T15:06:46.853362",
     "exception": false,
     "start_time": "2023-09-04T15:06:46.830229",
     "status": "completed"
    },
    "tags": []
   },
   "outputs": [
    {
     "name": "stdout",
     "output_type": "stream",
     "text": [
      "     v1                                                 v2\n",
      "0   ham  Go until jurong point, crazy.. Available only ...\n",
      "1   ham                      Ok lar... Joking wif u oni...\n",
      "2  spam  Free entry in 2 a wkly comp to win FA Cup fina...\n",
      "3   ham  U dun say so early hor... U c already then say...\n",
      "4   ham  Nah I don't think he goes to usf, he lives aro...\n"
     ]
    }
   ],
   "source": [
    "# Drop the columns only if they exist\n",
    "columns_to_drop = ['Unnamed: 2', 'Unnamed: 3', 'Unnamed: 4']\n",
    "data = data.drop(columns_to_drop, axis=1, errors='ignore')\n",
    "print(data.head())"
   ]
  },
  {
   "cell_type": "code",
   "execution_count": 4,
   "id": "80bca0b8",
   "metadata": {
    "execution": {
     "iopub.execute_input": "2023-09-04T15:06:46.864707Z",
     "iopub.status.busy": "2023-09-04T15:06:46.864126Z",
     "iopub.status.idle": "2023-09-04T15:06:52.375092Z",
     "shell.execute_reply": "2023-09-04T15:06:52.373919Z"
    },
    "papermill": {
     "duration": 5.519543,
     "end_time": "2023-09-04T15:06:52.377710",
     "exception": false,
     "start_time": "2023-09-04T15:06:46.858167",
     "status": "completed"
    },
    "tags": []
   },
   "outputs": [
    {
     "name": "stdout",
     "output_type": "stream",
     "text": [
      "     v1                                                 v2\n",
      "0   ham  go jurong point avail bugi n great world la e ...\n",
      "1   ham                              ok lar joke wif u oni\n",
      "2  spam  free entri 2 wkli comp win fa cup final tkt 21...\n",
      "3   ham                u dun say earli hor u c alreadi say\n",
      "4   ham               nah think goe usf live around though\n"
     ]
    }
   ],
   "source": [
    "import pandas as pd\n",
    "import nltk\n",
    "from nltk.corpus import stopwords\n",
    "from nltk.tokenize import word_tokenize\n",
    "from nltk.stem import PorterStemmer\n",
    "\n",
    "# Clean the 'v2' column (assuming 'v2' contains the text data)\n",
    "data['v2'] = data['v2'].str.lower()\n",
    "\n",
    "# Tokenization and cleaning\n",
    "def preprocess_text(text):\n",
    "    tokens = word_tokenize(text)\n",
    "    stop_words = set(stopwords.words('english'))\n",
    "    filtered_tokens = [word for word in tokens if word.isalnum() and word not in stop_words]\n",
    "    stemmer = PorterStemmer()\n",
    "    stemmed_tokens = [stemmer.stem(word) for word in filtered_tokens]\n",
    "    return ' '.join(stemmed_tokens)\n",
    "\n",
    "data['v2'] = data['v2'].apply(preprocess_text)\n",
    "\n",
    "# Check the cleaned data\n",
    "print(data.head())\n"
   ]
  },
  {
   "cell_type": "code",
   "execution_count": 5,
   "id": "45c24734",
   "metadata": {
    "execution": {
     "iopub.execute_input": "2023-09-04T15:06:52.389349Z",
     "iopub.status.busy": "2023-09-04T15:06:52.388633Z",
     "iopub.status.idle": "2023-09-04T15:06:52.535329Z",
     "shell.execute_reply": "2023-09-04T15:06:52.533937Z"
    },
    "papermill": {
     "duration": 0.155622,
     "end_time": "2023-09-04T15:06:52.538333",
     "exception": false,
     "start_time": "2023-09-04T15:06:52.382711",
     "status": "completed"
    },
    "tags": []
   },
   "outputs": [
    {
     "name": "stdout",
     "output_type": "stream",
     "text": [
      "TF-IDF Matrix Shape: (5572, 8672)\n",
      "Training Data Shape: (4457, 8672)\n",
      "Testing Data Shape: (1115, 8672)\n"
     ]
    }
   ],
   "source": [
    "from sklearn.feature_extraction.text import TfidfVectorizer\n",
    "from sklearn.model_selection import train_test_split\n",
    "\n",
    "# Load the dataset\n",
    "data = pd.read_csv('/kaggle/input/sms-spam-collection-dataset/spam.csv', encoding='latin-1')\n",
    "\n",
    "# Feature Extraction (TF-IDF)\n",
    "tfidf_vectorizer = TfidfVectorizer()\n",
    "tfidf_matrix = tfidf_vectorizer.fit_transform(data['v2'])\n",
    "\n",
    "# Label Encoding\n",
    "data['v1'] = data['v1'].map({'ham': 0, 'spam': 1})\n",
    "\n",
    "# Split Data\n",
    "X_train, X_test, y_train, y_test = train_test_split(tfidf_matrix, data['v1'], test_size=0.2, random_state=42)\n",
    "\n",
    "# Check the shape of the TF-IDF matrix and the split data\n",
    "print(\"TF-IDF Matrix Shape:\", tfidf_matrix.shape)\n",
    "print(\"Training Data Shape:\", X_train.shape)\n",
    "print(\"Testing Data Shape:\", X_test.shape)\n"
   ]
  },
  {
   "cell_type": "code",
   "execution_count": 6,
   "id": "a17a8406",
   "metadata": {
    "execution": {
     "iopub.execute_input": "2023-09-04T15:06:52.550891Z",
     "iopub.status.busy": "2023-09-04T15:06:52.550161Z",
     "iopub.status.idle": "2023-09-04T15:06:56.985608Z",
     "shell.execute_reply": "2023-09-04T15:06:56.984536Z"
    },
    "papermill": {
     "duration": 4.444436,
     "end_time": "2023-09-04T15:06:56.987892",
     "exception": false,
     "start_time": "2023-09-04T15:06:52.543456",
     "status": "completed"
    },
    "tags": []
   },
   "outputs": [
    {
     "name": "stdout",
     "output_type": "stream",
     "text": [
      "Accuracy: 0.9766816143497757\n",
      "Classification Report:\n",
      "               precision    recall  f1-score   support\n",
      "\n",
      "           0       0.97      1.00      0.99       965\n",
      "           1       1.00      0.83      0.91       150\n",
      "\n",
      "    accuracy                           0.98      1115\n",
      "   macro avg       0.99      0.91      0.95      1115\n",
      "weighted avg       0.98      0.98      0.98      1115\n",
      "\n"
     ]
    }
   ],
   "source": [
    "from sklearn.ensemble import RandomForestClassifier\n",
    "from sklearn.metrics import accuracy_score, classification_report\n",
    "\n",
    "# Create a Random Forest classifier\n",
    "rf_classifier = RandomForestClassifier(random_state=42)\n",
    "\n",
    "# Train the classifier on the training data\n",
    "rf_classifier.fit(X_train, y_train)\n",
    "\n",
    "# Make predictions on the testing data\n",
    "y_pred = rf_classifier.predict(X_test)\n",
    "\n",
    "# Evaluate the model's performance\n",
    "accuracy = accuracy_score(y_test, y_pred)\n",
    "classification_rep = classification_report(y_test, y_pred)\n",
    "\n",
    "# Print the results\n",
    "print(\"Accuracy:\", accuracy)\n",
    "print(\"Classification Report:\\n\", classification_rep)\n"
   ]
  },
  {
   "cell_type": "code",
   "execution_count": 7,
   "id": "eab0c64a",
   "metadata": {
    "execution": {
     "iopub.execute_input": "2023-09-04T15:06:56.999091Z",
     "iopub.status.busy": "2023-09-04T15:06:56.998698Z",
     "iopub.status.idle": "2023-09-04T15:06:57.014311Z",
     "shell.execute_reply": "2023-09-04T15:06:57.012968Z"
    },
    "papermill": {
     "duration": 0.023596,
     "end_time": "2023-09-04T15:06:57.016410",
     "exception": false,
     "start_time": "2023-09-04T15:06:56.992814",
     "status": "completed"
    },
    "tags": []
   },
   "outputs": [
    {
     "name": "stdout",
     "output_type": "stream",
     "text": [
      "This message is predicted to be SPAM.\n"
     ]
    }
   ],
   "source": [
    "# Preprocess your text\n",
    "input_text = \"Congratulations! You've won a free vacation. Click the link to claim your prize.\"\n",
    "\n",
    "# Apply the same preprocessing as in your previous code\n",
    "input_text = input_text.lower()\n",
    "# Add more preprocessing steps if needed\n",
    "\n",
    "# Transform the input text into a TF-IDF vector\n",
    "input_tfidf = tfidf_vectorizer.transform([input_text])\n",
    "\n",
    "# Make a prediction using the trained Random Forest model\n",
    "prediction = rf_classifier.predict(input_tfidf)\n",
    "\n",
    "# Interpret the prediction\n",
    "if prediction[0] == 1:\n",
    "    print(\"This message is predicted to be SPAM.\")\n",
    "else:\n",
    "    print(\"This message is predicted to be NOT SPAM (ham).\")\n"
   ]
  },
  {
   "cell_type": "code",
   "execution_count": 8,
   "id": "937b8fb8",
   "metadata": {
    "execution": {
     "iopub.execute_input": "2023-09-04T15:06:57.028731Z",
     "iopub.status.busy": "2023-09-04T15:06:57.027680Z",
     "iopub.status.idle": "2023-09-04T15:06:57.041417Z",
     "shell.execute_reply": "2023-09-04T15:06:57.040498Z"
    },
    "papermill": {
     "duration": 0.022304,
     "end_time": "2023-09-04T15:06:57.043653",
     "exception": false,
     "start_time": "2023-09-04T15:06:57.021349",
     "status": "completed"
    },
    "tags": []
   },
   "outputs": [
    {
     "name": "stdout",
     "output_type": "stream",
     "text": [
      "This message is predicted to be NOT SPAM (ham).\n"
     ]
    }
   ],
   "source": [
    "# Preprocess your text\n",
    "input_text1 = \"Hello, I'm Jacklin. Nice to meet you.\"\n",
    "\n",
    "# Apply the same preprocessing as in your previous code\n",
    "input_text1 = input_text1.lower()\n",
    "# Add more preprocessing steps if needed\n",
    "\n",
    "# Transform the input text into a TF-IDF vector\n",
    "input_tfidf = tfidf_vectorizer.transform([input_text1])\n",
    "\n",
    "# Make a prediction using the trained Random Forest model\n",
    "prediction = rf_classifier.predict(input_tfidf)\n",
    "\n",
    "# Interpret the prediction\n",
    "if prediction[0] == 1:\n",
    "    print(\"This message is predicted to be SPAM.\")\n",
    "else:\n",
    "    print(\"This message is predicted to be NOT SPAM (ham).\")\n"
   ]
  },
  {
   "cell_type": "code",
   "execution_count": null,
   "id": "7662f0a9",
   "metadata": {
    "papermill": {
     "duration": 0.004881,
     "end_time": "2023-09-04T15:06:57.053625",
     "exception": false,
     "start_time": "2023-09-04T15:06:57.048744",
     "status": "completed"
    },
    "tags": []
   },
   "outputs": [],
   "source": []
  },
  {
   "cell_type": "code",
   "execution_count": null,
   "id": "0925a8fb",
   "metadata": {
    "papermill": {
     "duration": 0.004557,
     "end_time": "2023-09-04T15:06:57.063075",
     "exception": false,
     "start_time": "2023-09-04T15:06:57.058518",
     "status": "completed"
    },
    "tags": []
   },
   "outputs": [],
   "source": []
  }
 ],
 "kernelspec": {
  "display_name": "Python 3",
  "language": "python",
  "name": "python3"
 },
 "language_info": {
  "codemirror_mode": {
   "name": "ipython",
   "version": 3
  },
  "file_extension": ".py",
  "mimetype": "text/x-python",
  "name": "python",
  "nbconvert_exporter": "python",
  "pygments_lexer": "ipython3",
  "version": "3.6.4"
 },
 "metadata": {
  "kernelspec": {
   "display_name": "Python 3",
   "language": "python",
   "name": "python3"
  },
  "language_info": {
   "codemirror_mode": {
    "name": "ipython",
    "version": 3
   },
   "file_extension": ".py",
   "mimetype": "text/x-python",
   "name": "python",
   "nbconvert_exporter": "python",
   "pygments_lexer": "ipython3",
   "version": "3.10.12"
  },
  "papermill": {
   "default_parameters": {},
   "duration": 14.426651,
   "end_time": "2023-09-04T15:06:57.689947",
   "environment_variables": {},
   "exception": null,
   "input_path": "__notebook__.ipynb",
   "output_path": "__notebook__.ipynb",
   "parameters": {},
   "start_time": "2023-09-04T15:06:43.263296",
   "version": "2.4.0"
  }
 },
 "nbformat": 4,
 "nbformat_minor": 5
}
